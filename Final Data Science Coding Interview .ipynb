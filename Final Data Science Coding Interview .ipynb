{
 "cells": [
  {
   "cell_type": "code",
   "execution_count": 1,
   "metadata": {},
   "outputs": [],
   "source": [
    "import numpy as np\n",
    "import pandas as pd\n",
    "import matplotlib.pyplot as plt\n",
    "import datetime as dt"
   ]
  },
  {
   "cell_type": "markdown",
   "metadata": {},
   "source": [
    "# Data"
   ]
  },
  {
   "cell_type": "markdown",
   "metadata": {},
   "source": [
    "Read in the three files: clients.csv, loans.csv, payments.csv. These files are related by the following:\n",
    "1. The clients file is the parent of the loans file. Each client can have multiple distinct loans. The client_id column links the two files\n",
    "2. The loans file is the child of the clients file and the parent of the payments file. Each loan can have multiple distinct payments associated with it. The loan_id column links the two files."
   ]
  },
  {
   "cell_type": "markdown",
   "metadata": {},
   "source": [
    "With the above datasets, answer the following questions. Show the steps taken to produce your final answer."
   ]
  },
  {
   "cell_type": "markdown",
   "metadata": {},
   "source": [
    "# Section 1 Questions"
   ]
  },
  {
   "cell_type": "markdown",
   "metadata": {},
   "source": [
    "1. Give the 5 client IDs with the highest mean payment amount\n",
    "2. How many unique loans have been given out to clients who joined prior to 2001?\n",
    "3. What is the mean number of payments missed by clients with a credit score of less than 700 and who have missed more than 50 payments?"
   ]
  },
  {
   "cell_type": "code",
   "execution_count": 3,
   "metadata": {},
   "outputs": [],
   "source": [
    "clients = pd.read_csv(\"clients.csv\")\n",
    "loans = pd.read_csv(\"loans.csv\")\n",
    "payments = pd.read_csv(\"payments.csv\")"
   ]
  },
  {
   "cell_type": "code",
   "execution_count": 4,
   "metadata": {},
   "outputs": [
    {
     "data": {
      "text/html": [
       "<div>\n",
       "<style scoped>\n",
       "    .dataframe tbody tr th:only-of-type {\n",
       "        vertical-align: middle;\n",
       "    }\n",
       "\n",
       "    .dataframe tbody tr th {\n",
       "        vertical-align: top;\n",
       "    }\n",
       "\n",
       "    .dataframe thead th {\n",
       "        text-align: right;\n",
       "    }\n",
       "</style>\n",
       "<table border=\"1\" class=\"dataframe\">\n",
       "  <thead>\n",
       "    <tr style=\"text-align: right;\">\n",
       "      <th></th>\n",
       "      <th>client_id</th>\n",
       "      <th>joined</th>\n",
       "      <th>income</th>\n",
       "      <th>credit_score</th>\n",
       "    </tr>\n",
       "  </thead>\n",
       "  <tbody>\n",
       "    <tr>\n",
       "      <th>0</th>\n",
       "      <td>46109</td>\n",
       "      <td>2002-04-16</td>\n",
       "      <td>172677</td>\n",
       "      <td>527</td>\n",
       "    </tr>\n",
       "    <tr>\n",
       "      <th>1</th>\n",
       "      <td>49545</td>\n",
       "      <td>2007-11-14</td>\n",
       "      <td>104564</td>\n",
       "      <td>770</td>\n",
       "    </tr>\n",
       "    <tr>\n",
       "      <th>2</th>\n",
       "      <td>41480</td>\n",
       "      <td>2013-03-11</td>\n",
       "      <td>122607</td>\n",
       "      <td>585</td>\n",
       "    </tr>\n",
       "    <tr>\n",
       "      <th>3</th>\n",
       "      <td>46180</td>\n",
       "      <td>2001-11-06</td>\n",
       "      <td>43851</td>\n",
       "      <td>562</td>\n",
       "    </tr>\n",
       "    <tr>\n",
       "      <th>4</th>\n",
       "      <td>25707</td>\n",
       "      <td>2006-10-06</td>\n",
       "      <td>211422</td>\n",
       "      <td>621</td>\n",
       "    </tr>\n",
       "  </tbody>\n",
       "</table>\n",
       "</div>"
      ],
      "text/plain": [
       "   client_id      joined  income  credit_score\n",
       "0      46109  2002-04-16  172677           527\n",
       "1      49545  2007-11-14  104564           770\n",
       "2      41480  2013-03-11  122607           585\n",
       "3      46180  2001-11-06   43851           562\n",
       "4      25707  2006-10-06  211422           621"
      ]
     },
     "execution_count": 4,
     "metadata": {},
     "output_type": "execute_result"
    }
   ],
   "source": [
    "clients.head()"
   ]
  },
  {
   "cell_type": "code",
   "execution_count": 5,
   "metadata": {
    "scrolled": true
   },
   "outputs": [
    {
     "data": {
      "text/html": [
       "<div>\n",
       "<style scoped>\n",
       "    .dataframe tbody tr th:only-of-type {\n",
       "        vertical-align: middle;\n",
       "    }\n",
       "\n",
       "    .dataframe tbody tr th {\n",
       "        vertical-align: top;\n",
       "    }\n",
       "\n",
       "    .dataframe thead th {\n",
       "        text-align: right;\n",
       "    }\n",
       "</style>\n",
       "<table border=\"1\" class=\"dataframe\">\n",
       "  <thead>\n",
       "    <tr style=\"text-align: right;\">\n",
       "      <th></th>\n",
       "      <th>client_id</th>\n",
       "      <th>loan_type</th>\n",
       "      <th>loan_amount</th>\n",
       "      <th>repaid</th>\n",
       "      <th>loan_id</th>\n",
       "      <th>loan_start</th>\n",
       "      <th>loan_end</th>\n",
       "      <th>rate</th>\n",
       "    </tr>\n",
       "  </thead>\n",
       "  <tbody>\n",
       "    <tr>\n",
       "      <th>0</th>\n",
       "      <td>46109</td>\n",
       "      <td>home</td>\n",
       "      <td>13672</td>\n",
       "      <td>0</td>\n",
       "      <td>10243</td>\n",
       "      <td>2002-04-16</td>\n",
       "      <td>2003-12-20</td>\n",
       "      <td>2.15</td>\n",
       "    </tr>\n",
       "    <tr>\n",
       "      <th>1</th>\n",
       "      <td>46109</td>\n",
       "      <td>credit</td>\n",
       "      <td>9794</td>\n",
       "      <td>0</td>\n",
       "      <td>10984</td>\n",
       "      <td>2003-10-21</td>\n",
       "      <td>2005-07-17</td>\n",
       "      <td>1.25</td>\n",
       "    </tr>\n",
       "    <tr>\n",
       "      <th>2</th>\n",
       "      <td>46109</td>\n",
       "      <td>home</td>\n",
       "      <td>12734</td>\n",
       "      <td>1</td>\n",
       "      <td>10990</td>\n",
       "      <td>2006-02-01</td>\n",
       "      <td>2007-07-05</td>\n",
       "      <td>0.68</td>\n",
       "    </tr>\n",
       "    <tr>\n",
       "      <th>3</th>\n",
       "      <td>46109</td>\n",
       "      <td>cash</td>\n",
       "      <td>12518</td>\n",
       "      <td>1</td>\n",
       "      <td>10596</td>\n",
       "      <td>2010-12-08</td>\n",
       "      <td>2013-05-05</td>\n",
       "      <td>1.24</td>\n",
       "    </tr>\n",
       "    <tr>\n",
       "      <th>4</th>\n",
       "      <td>46109</td>\n",
       "      <td>credit</td>\n",
       "      <td>14049</td>\n",
       "      <td>1</td>\n",
       "      <td>11415</td>\n",
       "      <td>2010-07-07</td>\n",
       "      <td>2012-05-21</td>\n",
       "      <td>3.13</td>\n",
       "    </tr>\n",
       "  </tbody>\n",
       "</table>\n",
       "</div>"
      ],
      "text/plain": [
       "   client_id loan_type  loan_amount  repaid  loan_id  loan_start    loan_end  \\\n",
       "0      46109      home        13672       0    10243  2002-04-16  2003-12-20   \n",
       "1      46109    credit         9794       0    10984  2003-10-21  2005-07-17   \n",
       "2      46109      home        12734       1    10990  2006-02-01  2007-07-05   \n",
       "3      46109      cash        12518       1    10596  2010-12-08  2013-05-05   \n",
       "4      46109    credit        14049       1    11415  2010-07-07  2012-05-21   \n",
       "\n",
       "   rate  \n",
       "0  2.15  \n",
       "1  1.25  \n",
       "2  0.68  \n",
       "3  1.24  \n",
       "4  3.13  "
      ]
     },
     "execution_count": 5,
     "metadata": {},
     "output_type": "execute_result"
    }
   ],
   "source": [
    "loans.head()"
   ]
  },
  {
   "cell_type": "code",
   "execution_count": 6,
   "metadata": {},
   "outputs": [
    {
     "data": {
      "text/html": [
       "<div>\n",
       "<style scoped>\n",
       "    .dataframe tbody tr th:only-of-type {\n",
       "        vertical-align: middle;\n",
       "    }\n",
       "\n",
       "    .dataframe tbody tr th {\n",
       "        vertical-align: top;\n",
       "    }\n",
       "\n",
       "    .dataframe thead th {\n",
       "        text-align: right;\n",
       "    }\n",
       "</style>\n",
       "<table border=\"1\" class=\"dataframe\">\n",
       "  <thead>\n",
       "    <tr style=\"text-align: right;\">\n",
       "      <th></th>\n",
       "      <th>loan_id</th>\n",
       "      <th>payment_amount</th>\n",
       "      <th>payment_date</th>\n",
       "      <th>missed</th>\n",
       "    </tr>\n",
       "  </thead>\n",
       "  <tbody>\n",
       "    <tr>\n",
       "      <th>0</th>\n",
       "      <td>10243</td>\n",
       "      <td>2369</td>\n",
       "      <td>2002-05-31</td>\n",
       "      <td>1</td>\n",
       "    </tr>\n",
       "    <tr>\n",
       "      <th>1</th>\n",
       "      <td>10243</td>\n",
       "      <td>2439</td>\n",
       "      <td>2002-06-18</td>\n",
       "      <td>1</td>\n",
       "    </tr>\n",
       "    <tr>\n",
       "      <th>2</th>\n",
       "      <td>10243</td>\n",
       "      <td>2662</td>\n",
       "      <td>2002-06-29</td>\n",
       "      <td>0</td>\n",
       "    </tr>\n",
       "    <tr>\n",
       "      <th>3</th>\n",
       "      <td>10243</td>\n",
       "      <td>2268</td>\n",
       "      <td>2002-07-20</td>\n",
       "      <td>0</td>\n",
       "    </tr>\n",
       "    <tr>\n",
       "      <th>4</th>\n",
       "      <td>10243</td>\n",
       "      <td>2027</td>\n",
       "      <td>2002-07-31</td>\n",
       "      <td>1</td>\n",
       "    </tr>\n",
       "  </tbody>\n",
       "</table>\n",
       "</div>"
      ],
      "text/plain": [
       "   loan_id  payment_amount payment_date  missed\n",
       "0    10243            2369   2002-05-31       1\n",
       "1    10243            2439   2002-06-18       1\n",
       "2    10243            2662   2002-06-29       0\n",
       "3    10243            2268   2002-07-20       0\n",
       "4    10243            2027   2002-07-31       1"
      ]
     },
     "execution_count": 6,
     "metadata": {},
     "output_type": "execute_result"
    }
   ],
   "source": [
    "payments.head()"
   ]
  },
  {
   "cell_type": "code",
   "execution_count": 9,
   "metadata": {},
   "outputs": [
    {
     "data": {
      "text/html": [
       "<div>\n",
       "<style scoped>\n",
       "    .dataframe tbody tr th:only-of-type {\n",
       "        vertical-align: middle;\n",
       "    }\n",
       "\n",
       "    .dataframe tbody tr th {\n",
       "        vertical-align: top;\n",
       "    }\n",
       "\n",
       "    .dataframe thead th {\n",
       "        text-align: right;\n",
       "    }\n",
       "</style>\n",
       "<table border=\"1\" class=\"dataframe\">\n",
       "  <thead>\n",
       "    <tr style=\"text-align: right;\">\n",
       "      <th></th>\n",
       "      <th>client_id</th>\n",
       "      <th>joined</th>\n",
       "      <th>income</th>\n",
       "      <th>credit_score</th>\n",
       "      <th>loan_type</th>\n",
       "      <th>loan_amount</th>\n",
       "      <th>repaid</th>\n",
       "      <th>loan_id</th>\n",
       "      <th>loan_start</th>\n",
       "      <th>loan_end</th>\n",
       "      <th>rate</th>\n",
       "      <th>payment_amount</th>\n",
       "      <th>payment_date</th>\n",
       "      <th>missed</th>\n",
       "    </tr>\n",
       "  </thead>\n",
       "  <tbody>\n",
       "    <tr>\n",
       "      <th>0</th>\n",
       "      <td>46109</td>\n",
       "      <td>2002-04-16</td>\n",
       "      <td>172677</td>\n",
       "      <td>527</td>\n",
       "      <td>home</td>\n",
       "      <td>13672</td>\n",
       "      <td>0</td>\n",
       "      <td>10243</td>\n",
       "      <td>2002-04-16</td>\n",
       "      <td>2003-12-20</td>\n",
       "      <td>2.15</td>\n",
       "      <td>2369</td>\n",
       "      <td>2002-05-31</td>\n",
       "      <td>1</td>\n",
       "    </tr>\n",
       "    <tr>\n",
       "      <th>1</th>\n",
       "      <td>46109</td>\n",
       "      <td>2002-04-16</td>\n",
       "      <td>172677</td>\n",
       "      <td>527</td>\n",
       "      <td>home</td>\n",
       "      <td>13672</td>\n",
       "      <td>0</td>\n",
       "      <td>10243</td>\n",
       "      <td>2002-04-16</td>\n",
       "      <td>2003-12-20</td>\n",
       "      <td>2.15</td>\n",
       "      <td>2439</td>\n",
       "      <td>2002-06-18</td>\n",
       "      <td>1</td>\n",
       "    </tr>\n",
       "    <tr>\n",
       "      <th>2</th>\n",
       "      <td>46109</td>\n",
       "      <td>2002-04-16</td>\n",
       "      <td>172677</td>\n",
       "      <td>527</td>\n",
       "      <td>home</td>\n",
       "      <td>13672</td>\n",
       "      <td>0</td>\n",
       "      <td>10243</td>\n",
       "      <td>2002-04-16</td>\n",
       "      <td>2003-12-20</td>\n",
       "      <td>2.15</td>\n",
       "      <td>2662</td>\n",
       "      <td>2002-06-29</td>\n",
       "      <td>0</td>\n",
       "    </tr>\n",
       "    <tr>\n",
       "      <th>3</th>\n",
       "      <td>46109</td>\n",
       "      <td>2002-04-16</td>\n",
       "      <td>172677</td>\n",
       "      <td>527</td>\n",
       "      <td>home</td>\n",
       "      <td>13672</td>\n",
       "      <td>0</td>\n",
       "      <td>10243</td>\n",
       "      <td>2002-04-16</td>\n",
       "      <td>2003-12-20</td>\n",
       "      <td>2.15</td>\n",
       "      <td>2268</td>\n",
       "      <td>2002-07-20</td>\n",
       "      <td>0</td>\n",
       "    </tr>\n",
       "    <tr>\n",
       "      <th>4</th>\n",
       "      <td>46109</td>\n",
       "      <td>2002-04-16</td>\n",
       "      <td>172677</td>\n",
       "      <td>527</td>\n",
       "      <td>home</td>\n",
       "      <td>13672</td>\n",
       "      <td>0</td>\n",
       "      <td>10243</td>\n",
       "      <td>2002-04-16</td>\n",
       "      <td>2003-12-20</td>\n",
       "      <td>2.15</td>\n",
       "      <td>2027</td>\n",
       "      <td>2002-07-31</td>\n",
       "      <td>1</td>\n",
       "    </tr>\n",
       "  </tbody>\n",
       "</table>\n",
       "</div>"
      ],
      "text/plain": [
       "   client_id      joined  income  credit_score loan_type  loan_amount  repaid  \\\n",
       "0      46109  2002-04-16  172677           527      home        13672       0   \n",
       "1      46109  2002-04-16  172677           527      home        13672       0   \n",
       "2      46109  2002-04-16  172677           527      home        13672       0   \n",
       "3      46109  2002-04-16  172677           527      home        13672       0   \n",
       "4      46109  2002-04-16  172677           527      home        13672       0   \n",
       "\n",
       "   loan_id  loan_start    loan_end  rate  payment_amount payment_date  missed  \n",
       "0    10243  2002-04-16  2003-12-20  2.15            2369   2002-05-31       1  \n",
       "1    10243  2002-04-16  2003-12-20  2.15            2439   2002-06-18       1  \n",
       "2    10243  2002-04-16  2003-12-20  2.15            2662   2002-06-29       0  \n",
       "3    10243  2002-04-16  2003-12-20  2.15            2268   2002-07-20       0  \n",
       "4    10243  2002-04-16  2003-12-20  2.15            2027   2002-07-31       1  "
      ]
     },
     "execution_count": 9,
     "metadata": {},
     "output_type": "execute_result"
    }
   ],
   "source": [
    "### merging three dataset based on the common columns\n",
    "# first merge: clients & loans on client_id\n",
    "mrg1 = pd.merge(clients,loans,on=\"client_id\",how=\"inner\")\n",
    "# second merge: mrg1 & payments on loan_id\n",
    "df = pd.merge(mrg1,payments,on=\"loan_id\",how=\"inner\")\n",
    "df.head()"
   ]
  },
  {
   "cell_type": "code",
   "execution_count": 10,
   "metadata": {},
   "outputs": [
    {
     "data": {
      "text/plain": [
       "[49545, 29841, 49624, 32885, 46109]"
      ]
     },
     "execution_count": 10,
     "metadata": {},
     "output_type": "execute_result"
    }
   ],
   "source": [
    "# Question 1\n",
    "Q1 = df[[\"client_id\",\"payment_amount\"]].groupby(\"client_id\").mean().sort_values(by='payment_amount',ascending=False)\n",
    "list(Q1.head(5).index)"
   ]
  },
  {
   "cell_type": "code",
   "execution_count": 12,
   "metadata": {},
   "outputs": [
    {
     "name": "stdout",
     "output_type": "stream",
     "text": [
      "client_id           int64\n",
      "joined             object\n",
      "income              int64\n",
      "credit_score        int64\n",
      "loan_type          object\n",
      "loan_amount         int64\n",
      "repaid              int64\n",
      "loan_id             int64\n",
      "loan_start         object\n",
      "loan_end           object\n",
      "rate              float64\n",
      "payment_amount      int64\n",
      "payment_date       object\n",
      "missed              int64\n",
      "year               object\n",
      "dtype: object\n",
      "\n",
      "Number of unique loans:  49\n"
     ]
    }
   ],
   "source": [
    "# Question 2\n",
    "## dividing date into year, month and adding year to the dataset\n",
    "b = np.array([x.split(\"-\") for x in df.joined])\n",
    "df[\"year\"] = b[:,0]\n",
    "print(df.dtypes)\n",
    "\n",
    "## convert columns to integer format\n",
    "df[\"year\"]=df[\"year\"].astype(int)\n",
    "##  clients who joined prior to 2001\n",
    "clients2001 = df[df[\"year\"] < 2001]\n",
    "\n",
    "print(\"\\nNumber of unique loans: \",len(clients2001.loan_id.value_counts()))"
   ]
  },
  {
   "cell_type": "code",
   "execution_count": 13,
   "metadata": {},
   "outputs": [
    {
     "name": "stdout",
     "output_type": "stream",
     "text": [
      "Thë answer is: 69.25\n"
     ]
    }
   ],
   "source": [
    "# Question 3\n",
    "Q3 = df[[\"client_id\",\"credit_score\",\"missed\"]]\n",
    "df3 = Q3[Q3.credit_score<700].groupby(\"client_id\").sum()\n",
    "print(\"Thë answer is:\", df3[df3.missed>50].missed.mean())"
   ]
  },
  {
   "cell_type": "markdown",
   "metadata": {},
   "source": [
    "# Section 2 Questions"
   ]
  },
  {
   "cell_type": "markdown",
   "metadata": {},
   "source": [
    "Create the following visualizations:\n",
    "    \n",
    "1. Create a histogram of the payment amounts. Briefly describe the distribution.\n",
    "2. Produce a line plot the cumulative sum of the number of clients by year.\n",
    "3. Produce a scatter plot of the percentage of payments missed in december for each year in the dataset."
   ]
  },
  {
   "cell_type": "code",
   "execution_count": 14,
   "metadata": {
    "scrolled": true
   },
   "outputs": [
    {
     "data": {
      "image/png": "[encoded data removed]",
      "text/plain": [
       "<Figure size 432x288 with 1 Axes>"
      ]
     },
     "metadata": {
      "needs_background": "light"
     },
     "output_type": "display_data"
    }
   ],
   "source": [
    "# Question 1\n",
    "X = payments[\"payment_amount\"]\n",
    "plt.hist(X,bins=50, edgecolor=\"k\")\n",
    "# Add axis labels\n",
    "plt.xlabel(\"Payment\")\n",
    "plt.title(\"Histogram of payment amounts\");"
   ]
  },
  {
   "cell_type": "code",
   "execution_count": 15,
   "metadata": {},
   "outputs": [
    {
     "name": "stdout",
     "output_type": "stream",
     "text": [
      "{2000: 378, 2001: 254, 2002: 529, 2003: 166, 2004: 574, 2006: 312, 2007: 191, 2008: 158, 2009: 240, 2010: 159, 2011: 243, 2012: 101, 2013: 151}\n"
     ]
    },
    {
     "data": {
      "image/png": "[encoded data removed]",
      "text/plain": [
       "<Figure size 432x288 with 1 Axes>"
      ]
     },
     "metadata": {
      "needs_background": "light"
     },
     "output_type": "display_data"
    }
   ],
   "source": [
    "# Question 2\n",
    "yearArr = df.sort_values(by='year')[\"year\"]\n",
    "\n",
    "# dictionary with the number of clients by year \n",
    "yearDic = dict()\n",
    "for y in yearArr:\n",
    "    yearDic[y]=yearDic.get(y,0)+1\n",
    "\n",
    "print(yearDic)\n",
    "\n",
    "plt.plot(list(yearDic.keys()),np.cumsum(list(yearDic.values())))\n",
    "plt.grid(linestyle=\"--\")\n",
    "\n",
    "# Add axis labels\n",
    "plt.xlabel(\"Year\")\n",
    "plt.ylabel(\"Cumulative sum \");\n",
    "plt.title(\"Cumulative sum of the number of clients by year\");"
   ]
  },
  {
   "cell_type": "code",
   "execution_count": 16,
   "metadata": {
    "scrolled": false
   },
   "outputs": [],
   "source": [
    "# Question 3\n",
    "\n",
    "## dividing date into year & month and adding them to the dataset \n",
    "b = np.array([x.split(\"-\") for x in payments.payment_date])\n",
    "payments[\"month\"] = b[:,1]\n",
    "payments[\"year\"] = b[:,0]\n",
    "\n",
    "## convert columns to int format\n",
    "payments[\"month\"] = payments[\"month\"].astype(int)\n",
    "payments[\"year\"] = payments[\"year\"].astype(int)"
   ]
  },
  {
   "cell_type": "code",
   "execution_count": 17,
   "metadata": {},
   "outputs": [
    {
     "name": "stdout",
     "output_type": "stream",
     "text": [
      "   year  month  missed\n",
      "0  2000      3       0\n",
      "1  2000      4       1\n",
      "2  2000      5       2\n",
      "3  2000      6       2\n",
      "4  2000      7       5\n",
      "\n",
      "   year  missed\n",
      "0  2000      50\n",
      "1  2001      94\n",
      "2  2002     130\n",
      "3  2003     133\n",
      "4  2004     127\n",
      "\n",
      "   year  month  missed_x  missed_y\n",
      "0  2000      3         0        50\n",
      "1  2000      4         1        50\n",
      "2  2000      5         2        50\n",
      "3  2000      6         2        50\n",
      "4  2000      7         5        50\n"
     ]
    }
   ],
   "source": [
    "dat1 = payments[[\"missed\",\"month\",\"year\"]].groupby([\"year\",\"month\"]).sum().reset_index()\n",
    "print(dat1.head())\n",
    "dat2 = payments[[\"missed\",\"year\"]].groupby([\"year\"]).sum().reset_index()\n",
    "print()\n",
    "print(dat2.head())\n",
    "dat = pd.merge(dat1,dat2,on=\"year\",how=\"inner\")\n",
    "print()\n",
    "print(dat.head())\n",
    "dat = dat[dat.month==11]\n",
    "dat[\"percentage\"] = dat.missed_x/dat.missed_y"
   ]
  },
  {
   "cell_type": "code",
   "execution_count": 18,
   "metadata": {},
   "outputs": [
    {
     "data": {
      "image/png": "[encoded data removed]",
      "text/plain": [
       "<Figure size 432x288 with 1 Axes>"
      ]
     },
     "metadata": {
      "needs_background": "light"
     },
     "output_type": "display_data"
    }
   ],
   "source": [
    "plt.scatter(dat[\"year\"], dat[\"percentage\"],color=\"r\",alpha=0.6,edgecolor=\"k\")\n",
    "plt.grid(linestyle=\"--\")\n",
    "\n",
    "# Add axis labels\n",
    "plt.xlabel(\"Year\")\n",
    "plt.ylabel(\"Percentage(%)\");\n",
    "plt.title(\"Percentage of missed payments in December\");"
   ]
  },
  {
   "cell_type": "markdown",
   "metadata": {},
   "source": [
    "# Section 3 - Modelling"
   ]
  },
  {
   "cell_type": "markdown",
   "metadata": {},
   "source": [
    "Create a model that will predict whether a person does or does not have diabetes. Use the diabetes.csv dataset. The target column in the dataset is \"Outcome\". Assume no features leak information about the target.\n",
    "\n",
    "Your solution should include the below. You may use whichever python libraries you wish to complete the task:\n",
    "1. Feature engineering\n",
    "2. Model fitting and performance evaluation\n",
    "3. A function that takes as arguments: a model, train data, test data, and returns the model's predictions on the test data\n",
    "4. A function that takes a set of predictions and true values and that validates the predictions using appropriate metrics\n",
    "5. Anything else you feel is necessary for modelling or improving the performance of your model\n",
    "\n",
    "\n",
    "__This exercise is intended for you to show your proficiency in machine learning, understanding of the various techniques that can be employed to improve the performance of a model, and your ability to implement those techniques. Please, therefore, show your working at all times. You will be judged more for the above than for the performance of the final model your produce.__"
   ]
  },
  {
   "cell_type": "code",
   "execution_count": 132,
   "metadata": {
    "scrolled": true
   },
   "outputs": [
    {
     "name": "stdout",
     "output_type": "stream",
     "text": [
      "(768, 9)\n"
     ]
    },
    {
     "data": {
      "text/plain": [
       "Pregnancies                 float64\n",
       "Glucose                     float64\n",
       "BloodPressure               float64\n",
       "SkinThickness               float64\n",
       "Insulin                      object\n",
       "BMI                         float64\n",
       "DiabetesPedigreeFunction    float64\n",
       "Age                         float64\n",
       "Outcome                      object\n",
       "dtype: object"
      ]
     },
     "execution_count": 132,
     "metadata": {},
     "output_type": "execute_result"
    }
   ],
   "source": [
    "diabetes = pd.read_csv(\"test_diabetes.csv\",delimiter=\";\")\n",
    "# dataset size\n",
    "print(diabetes.shape)\n",
    "# data type\n",
    "diabetes.dtypes"
   ]
  },
  {
   "cell_type": "code",
   "execution_count": 133,
   "metadata": {},
   "outputs": [
    {
     "data": {
      "text/plain": [
       "0    339\n",
       "1    177\n",
       "N    161\n",
       "Y     91\n",
       "Name: Outcome, dtype: int64"
      ]
     },
     "execution_count": 133,
     "metadata": {},
     "output_type": "execute_result"
    }
   ],
   "source": [
    "# target variable distribution\n",
    "diabetes['Outcome'].value_counts()"
   ]
  },
  {
   "cell_type": "code",
   "execution_count": 134,
   "metadata": {},
   "outputs": [
    {
     "data": {
      "text/plain": [
       "0    339\n",
       "1    177\n",
       "2    161\n",
       "3     91\n",
       "Name: Outcome, dtype: int64"
      ]
     },
     "execution_count": 134,
     "metadata": {},
     "output_type": "execute_result"
    }
   ],
   "source": [
    "# object to integer\n",
    "diabetes['Outcome'] = diabetes['Outcome'].map({'0': 0, \"1\": 1,'N': \"2\", 'Y': \"3\"})\n",
    "diabetes['Outcome'].value_counts()"
   ]
  },
  {
   "cell_type": "code",
   "execution_count": 135,
   "metadata": {
    "scrolled": true
   },
   "outputs": [
    {
     "name": "stdout",
     "output_type": "stream",
     "text": [
      "Zero    346\n",
      "105      11\n",
      "130       8\n",
      "140       8\n",
      "94        7\n",
      "       ... \n",
      "375       1\n",
      "89        1\n",
      "38        1\n",
      "191       1\n",
      "14        1\n",
      "Name: Insulin, Length: 182, dtype: int64\n"
     ]
    }
   ],
   "source": [
    "print(diabetes[\"Insulin\"].value_counts())\n",
    "# replace Zero with 0 \n",
    "diabetes[\"Insulin\"] = diabetes[\"Insulin\"].replace({\"Zero\":0})"
   ]
  },
  {
   "cell_type": "code",
   "execution_count": 136,
   "metadata": {},
   "outputs": [
    {
     "name": "stdout",
     "output_type": "stream",
     "text": [
      "Pregnancies                 float64\n",
      "Glucose                     float64\n",
      "BloodPressure               float64\n",
      "SkinThickness               float64\n",
      "Insulin                      object\n",
      "BMI                         float64\n",
      "DiabetesPedigreeFunction    float64\n",
      "Age                         float64\n",
      "Outcome                      object\n",
      "dtype: object\n"
     ]
    }
   ],
   "source": [
    "print(diabetes.dtypes)\n",
    "# convert columns to float and integer formats\n",
    "diabetes[\"Insulin\"] = diabetes[\"Insulin\"].astype(float)\n",
    "diabetes[\"Outcome\"] = diabetes[\"Outcome\"].astype(int)"
   ]
  },
  {
   "cell_type": "code",
   "execution_count": 137,
   "metadata": {},
   "outputs": [
    {
     "data": {
      "text/plain": [
       "Pregnancies                 37\n",
       "Glucose                     38\n",
       "BloodPressure               34\n",
       "SkinThickness               34\n",
       "Insulin                     51\n",
       "BMI                         35\n",
       "DiabetesPedigreeFunction    40\n",
       "Age                         51\n",
       "Outcome                      0\n",
       "dtype: int64"
      ]
     },
     "execution_count": 137,
     "metadata": {},
     "output_type": "execute_result"
    }
   ],
   "source": [
    "# missing values\n",
    "diabetes.isna().sum()"
   ]
  },
  {
   "cell_type": "code",
   "execution_count": 138,
   "metadata": {},
   "outputs": [
    {
     "data": {
      "text/plain": [
       "Pregnancies                 0\n",
       "Glucose                     0\n",
       "BloodPressure               0\n",
       "SkinThickness               0\n",
       "Insulin                     0\n",
       "BMI                         0\n",
       "DiabetesPedigreeFunction    0\n",
       "Age                         0\n",
       "Outcome                     0\n",
       "dtype: int64"
      ]
     },
     "execution_count": 138,
     "metadata": {},
     "output_type": "execute_result"
    }
   ],
   "source": [
    "# replace nan values with average of columns\n",
    "diabetes = diabetes.fillna(diabetes.mean())\n",
    "# missing values\n",
    "diabetes.isna().sum()"
   ]
  },
  {
   "cell_type": "code",
   "execution_count": 139,
   "metadata": {},
   "outputs": [],
   "source": [
    "# Outlier detection \n",
    "def detect_outliers(df,n,features):\n",
    "    \"\"\"\n",
    "    Takes a dataframe of features and returns a list of the indices\n",
    "    corresponding to the observations containing more than n outliers according\n",
    "    to the Tukey method.\n",
    "    \"\"\"\n",
    "    outlier_indices = []\n",
    "    \n",
    "    # iterate over features(columns)\n",
    "    for col in features:\n",
    "        # 1st quartile (25%)\n",
    "        Q1 = np.percentile(df[col], 25)\n",
    "        # 3rd quartile (75%)\n",
    "        Q3 = np.percentile(df[col],75)\n",
    "        # Interquartile range (IQR)\n",
    "        IQR = Q3 - Q1\n",
    "        \n",
    "        # outlier step\n",
    "        outlier_step = 1.5 * IQR\n",
    "        \n",
    "        # Determine a list of indices of outliers for feature col\n",
    "        outlier_list_col = df[(df[col] < Q1 - outlier_step) | (df[col] > Q3 + outlier_step )].index\n",
    "        \n",
    "        # append the found outlier indices for col to the list of outlier indices \n",
    "        outlier_indices.extend(outlier_list_col)\n",
    "        \n",
    "    # select observations containing more than 2 outliers\n",
    "    outlier_indices = Counter(outlier_indices)        \n",
    "    multiple_outliers = list( k for k, v in outlier_indices.items() if v > n )\n",
    "    \n",
    "    return multiple_outliers"
   ]
  },
  {
   "cell_type": "code",
   "execution_count": 140,
   "metadata": {
    "scrolled": true
   },
   "outputs": [
    {
     "name": "stdout",
     "output_type": "stream",
     "text": [
      "[49, 60, 81, 125, 177, 193, 362, 426, 453, 494, 522, 706, 247, 370, 371, 445, 684, 100]\n"
     ]
    }
   ],
   "source": [
    "## detecting outliers in the dataframe\n",
    "from collections import Counter\n",
    "ColNames = list(diabetes.columns)[:-1]\n",
    "Outliers_to_drop = detect_outliers(diabetes,1, ColNames)\n",
    "indexOutliers = list(diabetes.iloc[Outliers_to_drop,:].index)\n",
    "print(indexOutliers)\n",
    "diabetes = diabetes.drop(diabetes.index[indexOutliers])"
   ]
  },
  {
   "cell_type": "code",
   "execution_count": 141,
   "metadata": {},
   "outputs": [
    {
     "data": {
      "image/png": "[encoded data removed]",
      "text/plain": [
       "<Figure size 864x360 with 8 Axes>"
      ]
     },
     "metadata": {
      "needs_background": "light"
     },
     "output_type": "display_data"
    }
   ],
   "source": [
    "## histogram\n",
    "ColNames = list(diabetes.columns[:-1])\n",
    "\n",
    "plt.figure(figsize=(12,5))\n",
    "i = 1\n",
    "for ColName in ColNames:\n",
    "    plt.subplot(2,4 , i)\n",
    "    plt.hist(diabetes[ColName], edgecolor =\"k\", bins=20)\n",
    "    plt.xlabel(ColName)\n",
    "    plt.grid(linestyle=\"--\", axis=\"y\")\n",
    "    plt.tight_layout()\n",
    "    i+=1"
   ]
  },
  {
   "cell_type": "code",
   "execution_count": 142,
   "metadata": {},
   "outputs": [
    {
     "data": {
      "image/png": "[encoded data removed]",
      "text/plain": [
       "<Figure size 864x360 with 8 Axes>"
      ]
     },
     "metadata": {
      "needs_background": "light"
     },
     "output_type": "display_data"
    }
   ],
   "source": [
    "## data cleaning by removing SkinThickness, BMI ,... == 0\n",
    "diabetes = diabetes[(diabetes[\"SkinThickness\"]!=0) & \n",
    "                    (diabetes[\"BMI\"]!=0) & \n",
    "                    (diabetes[\"Glucose\"]!=0) & \n",
    "                    (diabetes[\"BloodPressure\"]!=0)]\n",
    "\n",
    "## histogram\n",
    "ColNames = list(diabetes.columns[:-1])\n",
    "\n",
    "plt.figure(figsize=(12,5))\n",
    "i = 1\n",
    "for ColName in ColNames:\n",
    "    plt.subplot(2,4 , i)\n",
    "    plt.hist(diabetes[ColName], edgecolor =\"k\", bins=20, color=\"g\")\n",
    "    plt.xlabel(ColName)\n",
    "    plt.grid(linestyle=\"--\", axis=\"y\")\n",
    "    plt.tight_layout()\n",
    "    i+=1"
   ]
  },
  {
   "cell_type": "code",
   "execution_count": 143,
   "metadata": {
    "scrolled": true
   },
   "outputs": [
    {
     "data": {
      "text/html": [
       "<style  type=\"text/css\" >\n",
       "#T_53a3d9ae_0a12_11eb_b70e_340286bab557row0_col0,#T_53a3d9ae_0a12_11eb_b70e_340286bab557row1_col1,#T_53a3d9ae_0a12_11eb_b70e_340286bab557row2_col2,#T_53a3d9ae_0a12_11eb_b70e_340286bab557row3_col3,#T_53a3d9ae_0a12_11eb_b70e_340286bab557row4_col4,#T_53a3d9ae_0a12_11eb_b70e_340286bab557row5_col5,#T_53a3d9ae_0a12_11eb_b70e_340286bab557row6_col6,#T_53a3d9ae_0a12_11eb_b70e_340286bab557row7_col7{\n",
       "            background-color:  #b40426;\n",
       "            color:  #f1f1f1;\n",
       "        }#T_53a3d9ae_0a12_11eb_b70e_340286bab557row0_col1{\n",
       "            background-color:  #4055c8;\n",
       "            color:  #f1f1f1;\n",
       "        }#T_53a3d9ae_0a12_11eb_b70e_340286bab557row0_col2{\n",
       "            background-color:  #7da0f9;\n",
       "            color:  #000000;\n",
       "        }#T_53a3d9ae_0a12_11eb_b70e_340286bab557row0_col3,#T_53a3d9ae_0a12_11eb_b70e_340286bab557row7_col4{\n",
       "            background-color:  #4358cb;\n",
       "            color:  #f1f1f1;\n",
       "        }#T_53a3d9ae_0a12_11eb_b70e_340286bab557row0_col4,#T_53a3d9ae_0a12_11eb_b70e_340286bab557row0_col5,#T_53a3d9ae_0a12_11eb_b70e_340286bab557row2_col6,#T_53a3d9ae_0a12_11eb_b70e_340286bab557row4_col0,#T_53a3d9ae_0a12_11eb_b70e_340286bab557row4_col7,#T_53a3d9ae_0a12_11eb_b70e_340286bab557row6_col1,#T_53a3d9ae_0a12_11eb_b70e_340286bab557row6_col2,#T_53a3d9ae_0a12_11eb_b70e_340286bab557row7_col3{\n",
       "            background-color:  #3b4cc0;\n",
       "            color:  #f1f1f1;\n",
       "        }#T_53a3d9ae_0a12_11eb_b70e_340286bab557row0_col6,#T_53a3d9ae_0a12_11eb_b70e_340286bab557row4_col2,#T_53a3d9ae_0a12_11eb_b70e_340286bab557row5_col0{\n",
       "            background-color:  #445acc;\n",
       "            color:  #f1f1f1;\n",
       "        }#T_53a3d9ae_0a12_11eb_b70e_340286bab557row0_col7{\n",
       "            background-color:  #b6cefa;\n",
       "            color:  #000000;\n",
       "        }#T_53a3d9ae_0a12_11eb_b70e_340286bab557row1_col0,#T_53a3d9ae_0a12_11eb_b70e_340286bab557row2_col1{\n",
       "            background-color:  #6180e9;\n",
       "            color:  #000000;\n",
       "        }#T_53a3d9ae_0a12_11eb_b70e_340286bab557row1_col2,#T_53a3d9ae_0a12_11eb_b70e_340286bab557row1_col5,#T_53a3d9ae_0a12_11eb_b70e_340286bab557row3_col2{\n",
       "            background-color:  #85a8fc;\n",
       "            color:  #000000;\n",
       "        }#T_53a3d9ae_0a12_11eb_b70e_340286bab557row1_col3{\n",
       "            background-color:  #7699f6;\n",
       "            color:  #000000;\n",
       "        }#T_53a3d9ae_0a12_11eb_b70e_340286bab557row1_col4{\n",
       "            background-color:  #bfd3f6;\n",
       "            color:  #000000;\n",
       "        }#T_53a3d9ae_0a12_11eb_b70e_340286bab557row1_col6{\n",
       "            background-color:  #5f7fe8;\n",
       "            color:  #000000;\n",
       "        }#T_53a3d9ae_0a12_11eb_b70e_340286bab557row1_col7,#T_53a3d9ae_0a12_11eb_b70e_340286bab557row3_col4{\n",
       "            background-color:  #688aef;\n",
       "            color:  #000000;\n",
       "        }#T_53a3d9ae_0a12_11eb_b70e_340286bab557row2_col0{\n",
       "            background-color:  #779af7;\n",
       "            color:  #000000;\n",
       "        }#T_53a3d9ae_0a12_11eb_b70e_340286bab557row2_col3{\n",
       "            background-color:  #6c8ff1;\n",
       "            color:  #000000;\n",
       "        }#T_53a3d9ae_0a12_11eb_b70e_340286bab557row2_col4,#T_53a3d9ae_0a12_11eb_b70e_340286bab557row6_col0,#T_53a3d9ae_0a12_11eb_b70e_340286bab557row6_col7{\n",
       "            background-color:  #3f53c6;\n",
       "            color:  #f1f1f1;\n",
       "        }#T_53a3d9ae_0a12_11eb_b70e_340286bab557row2_col5{\n",
       "            background-color:  #97b8ff;\n",
       "            color:  #000000;\n",
       "        }#T_53a3d9ae_0a12_11eb_b70e_340286bab557row2_col7{\n",
       "            background-color:  #84a7fc;\n",
       "            color:  #000000;\n",
       "        }#T_53a3d9ae_0a12_11eb_b70e_340286bab557row3_col0,#T_53a3d9ae_0a12_11eb_b70e_340286bab557row3_col6{\n",
       "            background-color:  #5875e1;\n",
       "            color:  #000000;\n",
       "        }#T_53a3d9ae_0a12_11eb_b70e_340286bab557row3_col1{\n",
       "            background-color:  #6b8df0;\n",
       "            color:  #000000;\n",
       "        }#T_53a3d9ae_0a12_11eb_b70e_340286bab557row3_col5{\n",
       "            background-color:  #f2c9b4;\n",
       "            color:  #000000;\n",
       "        }#T_53a3d9ae_0a12_11eb_b70e_340286bab557row3_col7{\n",
       "            background-color:  #455cce;\n",
       "            color:  #f1f1f1;\n",
       "        }#T_53a3d9ae_0a12_11eb_b70e_340286bab557row4_col1{\n",
       "            background-color:  #a6c4fe;\n",
       "            color:  #000000;\n",
       "        }#T_53a3d9ae_0a12_11eb_b70e_340286bab557row4_col3{\n",
       "            background-color:  #5470de;\n",
       "            color:  #000000;\n",
       "        }#T_53a3d9ae_0a12_11eb_b70e_340286bab557row4_col5{\n",
       "            background-color:  #6a8bef;\n",
       "            color:  #000000;\n",
       "        }#T_53a3d9ae_0a12_11eb_b70e_340286bab557row4_col6{\n",
       "            background-color:  #5b7ae5;\n",
       "            color:  #000000;\n",
       "        }#T_53a3d9ae_0a12_11eb_b70e_340286bab557row5_col1{\n",
       "            background-color:  #6f92f3;\n",
       "            color:  #000000;\n",
       "        }#T_53a3d9ae_0a12_11eb_b70e_340286bab557row5_col2{\n",
       "            background-color:  #a3c2fe;\n",
       "            color:  #000000;\n",
       "        }#T_53a3d9ae_0a12_11eb_b70e_340286bab557row5_col3{\n",
       "            background-color:  #f1cdba;\n",
       "            color:  #000000;\n",
       "        }#T_53a3d9ae_0a12_11eb_b70e_340286bab557row5_col4{\n",
       "            background-color:  #7396f5;\n",
       "            color:  #000000;\n",
       "        }#T_53a3d9ae_0a12_11eb_b70e_340286bab557row5_col6{\n",
       "            background-color:  #6788ee;\n",
       "            color:  #000000;\n",
       "        }#T_53a3d9ae_0a12_11eb_b70e_340286bab557row5_col7{\n",
       "            background-color:  #3d50c3;\n",
       "            color:  #f1f1f1;\n",
       "        }#T_53a3d9ae_0a12_11eb_b70e_340286bab557row6_col3{\n",
       "            background-color:  #3e51c5;\n",
       "            color:  #f1f1f1;\n",
       "        }#T_53a3d9ae_0a12_11eb_b70e_340286bab557row6_col4{\n",
       "            background-color:  #5673e0;\n",
       "            color:  #000000;\n",
       "        }#T_53a3d9ae_0a12_11eb_b70e_340286bab557row6_col5{\n",
       "            background-color:  #5977e3;\n",
       "            color:  #000000;\n",
       "        }#T_53a3d9ae_0a12_11eb_b70e_340286bab557row7_col0{\n",
       "            background-color:  #bcd2f7;\n",
       "            color:  #000000;\n",
       "        }#T_53a3d9ae_0a12_11eb_b70e_340286bab557row7_col1{\n",
       "            background-color:  #516ddb;\n",
       "            color:  #000000;\n",
       "        }#T_53a3d9ae_0a12_11eb_b70e_340286bab557row7_col2{\n",
       "            background-color:  #90b2fe;\n",
       "            color:  #000000;\n",
       "        }#T_53a3d9ae_0a12_11eb_b70e_340286bab557row7_col5{\n",
       "            background-color:  #3c4ec2;\n",
       "            color:  #f1f1f1;\n",
       "        }#T_53a3d9ae_0a12_11eb_b70e_340286bab557row7_col6{\n",
       "            background-color:  #4c66d6;\n",
       "            color:  #000000;\n",
       "        }</style><table id=\"T_53a3d9ae_0a12_11eb_b70e_340286bab557\" ><thead>    <tr>        <th class=\"blank level0\" ></th>        <th class=\"col_heading level0 col0\" >Pregnancies</th>        <th class=\"col_heading level0 col1\" >Glucose</th>        <th class=\"col_heading level0 col2\" >BloodPressure</th>        <th class=\"col_heading level0 col3\" >SkinThickness</th>        <th class=\"col_heading level0 col4\" >Insulin</th>        <th class=\"col_heading level0 col5\" >BMI</th>        <th class=\"col_heading level0 col6\" >DiabetesPedigreeFunction</th>        <th class=\"col_heading level0 col7\" >Age</th>    </tr></thead><tbody>\n",
       "                <tr>\n",
       "                        <th id=\"T_53a3d9ae_0a12_11eb_b70e_340286bab557level0_row0\" class=\"row_heading level0 row0\" >Pregnancies</th>\n",
       "                        <td id=\"T_53a3d9ae_0a12_11eb_b70e_340286bab557row0_col0\" class=\"data row0 col0\" >1.000000</td>\n",
       "                        <td id=\"T_53a3d9ae_0a12_11eb_b70e_340286bab557row0_col1\" class=\"data row0 col1\" >0.120655</td>\n",
       "                        <td id=\"T_53a3d9ae_0a12_11eb_b70e_340286bab557row0_col2\" class=\"data row0 col2\" >0.187052</td>\n",
       "                        <td id=\"T_53a3d9ae_0a12_11eb_b70e_340286bab557row0_col3\" class=\"data row0 col3\" >0.089682</td>\n",
       "                        <td id=\"T_53a3d9ae_0a12_11eb_b70e_340286bab557row0_col4\" class=\"data row0 col4\" >-0.004772</td>\n",
       "                        <td id=\"T_53a3d9ae_0a12_11eb_b70e_340286bab557row0_col5\" class=\"data row0 col5\" >0.028527</td>\n",
       "                        <td id=\"T_53a3d9ae_0a12_11eb_b70e_340286bab557row0_col6\" class=\"data row0 col6\" >0.013489</td>\n",
       "                        <td id=\"T_53a3d9ae_0a12_11eb_b70e_340286bab557row0_col7\" class=\"data row0 col7\" >0.385208</td>\n",
       "            </tr>\n",
       "            <tr>\n",
       "                        <th id=\"T_53a3d9ae_0a12_11eb_b70e_340286bab557level0_row1\" class=\"row_heading level0 row1\" >Glucose</th>\n",
       "                        <td id=\"T_53a3d9ae_0a12_11eb_b70e_340286bab557row1_col0\" class=\"data row1 col0\" >0.120655</td>\n",
       "                        <td id=\"T_53a3d9ae_0a12_11eb_b70e_340286bab557row1_col1\" class=\"data row1 col1\" >1.000000</td>\n",
       "                        <td id=\"T_53a3d9ae_0a12_11eb_b70e_340286bab557row1_col2\" class=\"data row1 col2\" >0.211188</td>\n",
       "                        <td id=\"T_53a3d9ae_0a12_11eb_b70e_340286bab557row1_col3\" class=\"data row1 col3\" >0.237566</td>\n",
       "                        <td id=\"T_53a3d9ae_0a12_11eb_b70e_340286bab557row1_col4\" class=\"data row1 col4\" >0.391677</td>\n",
       "                        <td id=\"T_53a3d9ae_0a12_11eb_b70e_340286bab557row1_col5\" class=\"data row1 col5\" >0.248787</td>\n",
       "                        <td id=\"T_53a3d9ae_0a12_11eb_b70e_340286bab557row1_col6\" class=\"data row1 col6\" >0.100007</td>\n",
       "                        <td id=\"T_53a3d9ae_0a12_11eb_b70e_340286bab557row1_col7\" class=\"data row1 col7\" >0.169050</td>\n",
       "            </tr>\n",
       "            <tr>\n",
       "                        <th id=\"T_53a3d9ae_0a12_11eb_b70e_340286bab557level0_row2\" class=\"row_heading level0 row2\" >BloodPressure</th>\n",
       "                        <td id=\"T_53a3d9ae_0a12_11eb_b70e_340286bab557row2_col0\" class=\"data row2 col0\" >0.187052</td>\n",
       "                        <td id=\"T_53a3d9ae_0a12_11eb_b70e_340286bab557row2_col1\" class=\"data row2 col1\" >0.211188</td>\n",
       "                        <td id=\"T_53a3d9ae_0a12_11eb_b70e_340286bab557row2_col2\" class=\"data row2 col2\" >1.000000</td>\n",
       "                        <td id=\"T_53a3d9ae_0a12_11eb_b70e_340286bab557row2_col3\" class=\"data row2 col3\" >0.212160</td>\n",
       "                        <td id=\"T_53a3d9ae_0a12_11eb_b70e_340286bab557row2_col4\" class=\"data row2 col4\" >0.013976</td>\n",
       "                        <td id=\"T_53a3d9ae_0a12_11eb_b70e_340286bab557row2_col5\" class=\"data row2 col5\" >0.300294</td>\n",
       "                        <td id=\"T_53a3d9ae_0a12_11eb_b70e_340286bab557row2_col6\" class=\"data row2 col6\" >-0.021735</td>\n",
       "                        <td id=\"T_53a3d9ae_0a12_11eb_b70e_340286bab557row2_col7\" class=\"data row2 col7\" >0.244486</td>\n",
       "            </tr>\n",
       "            <tr>\n",
       "                        <th id=\"T_53a3d9ae_0a12_11eb_b70e_340286bab557level0_row3\" class=\"row_heading level0 row3\" >SkinThickness</th>\n",
       "                        <td id=\"T_53a3d9ae_0a12_11eb_b70e_340286bab557row3_col0\" class=\"data row3 col0\" >0.089682</td>\n",
       "                        <td id=\"T_53a3d9ae_0a12_11eb_b70e_340286bab557row3_col1\" class=\"data row3 col1\" >0.237566</td>\n",
       "                        <td id=\"T_53a3d9ae_0a12_11eb_b70e_340286bab557row3_col2\" class=\"data row3 col2\" >0.212160</td>\n",
       "                        <td id=\"T_53a3d9ae_0a12_11eb_b70e_340286bab557row3_col3\" class=\"data row3 col3\" >1.000000</td>\n",
       "                        <td id=\"T_53a3d9ae_0a12_11eb_b70e_340286bab557row3_col4\" class=\"data row3 col4\" >0.141036</td>\n",
       "                        <td id=\"T_53a3d9ae_0a12_11eb_b70e_340286bab557row3_col5\" class=\"data row3 col5\" >0.617450</td>\n",
       "                        <td id=\"T_53a3d9ae_0a12_11eb_b70e_340286bab557row3_col6\" class=\"data row3 col6\" >0.076866</td>\n",
       "                        <td id=\"T_53a3d9ae_0a12_11eb_b70e_340286bab557row3_col7\" class=\"data row3 col7\" >0.063100</td>\n",
       "            </tr>\n",
       "            <tr>\n",
       "                        <th id=\"T_53a3d9ae_0a12_11eb_b70e_340286bab557level0_row4\" class=\"row_heading level0 row4\" >Insulin</th>\n",
       "                        <td id=\"T_53a3d9ae_0a12_11eb_b70e_340286bab557row4_col0\" class=\"data row4 col0\" >-0.004772</td>\n",
       "                        <td id=\"T_53a3d9ae_0a12_11eb_b70e_340286bab557row4_col1\" class=\"data row4 col1\" >0.391677</td>\n",
       "                        <td id=\"T_53a3d9ae_0a12_11eb_b70e_340286bab557row4_col2\" class=\"data row4 col2\" >0.013976</td>\n",
       "                        <td id=\"T_53a3d9ae_0a12_11eb_b70e_340286bab557row4_col3\" class=\"data row4 col3\" >0.141036</td>\n",
       "                        <td id=\"T_53a3d9ae_0a12_11eb_b70e_340286bab557row4_col4\" class=\"data row4 col4\" >1.000000</td>\n",
       "                        <td id=\"T_53a3d9ae_0a12_11eb_b70e_340286bab557row4_col5\" class=\"data row4 col5\" >0.174209</td>\n",
       "                        <td id=\"T_53a3d9ae_0a12_11eb_b70e_340286bab557row4_col6\" class=\"data row4 col6\" >0.088202</td>\n",
       "                        <td id=\"T_53a3d9ae_0a12_11eb_b70e_340286bab557row4_col7\" class=\"data row4 col7\" >0.025588</td>\n",
       "            </tr>\n",
       "            <tr>\n",
       "                        <th id=\"T_53a3d9ae_0a12_11eb_b70e_340286bab557level0_row5\" class=\"row_heading level0 row5\" >BMI</th>\n",
       "                        <td id=\"T_53a3d9ae_0a12_11eb_b70e_340286bab557row5_col0\" class=\"data row5 col0\" >0.028527</td>\n",
       "                        <td id=\"T_53a3d9ae_0a12_11eb_b70e_340286bab557row5_col1\" class=\"data row5 col1\" >0.248787</td>\n",
       "                        <td id=\"T_53a3d9ae_0a12_11eb_b70e_340286bab557row5_col2\" class=\"data row5 col2\" >0.300294</td>\n",
       "                        <td id=\"T_53a3d9ae_0a12_11eb_b70e_340286bab557row5_col3\" class=\"data row5 col3\" >0.617450</td>\n",
       "                        <td id=\"T_53a3d9ae_0a12_11eb_b70e_340286bab557row5_col4\" class=\"data row5 col4\" >0.174209</td>\n",
       "                        <td id=\"T_53a3d9ae_0a12_11eb_b70e_340286bab557row5_col5\" class=\"data row5 col5\" >1.000000</td>\n",
       "                        <td id=\"T_53a3d9ae_0a12_11eb_b70e_340286bab557row5_col6\" class=\"data row5 col6\" >0.125222</td>\n",
       "                        <td id=\"T_53a3d9ae_0a12_11eb_b70e_340286bab557row5_col7\" class=\"data row5 col7\" >0.035425</td>\n",
       "            </tr>\n",
       "            <tr>\n",
       "                        <th id=\"T_53a3d9ae_0a12_11eb_b70e_340286bab557level0_row6\" class=\"row_heading level0 row6\" >DiabetesPedigreeFunction</th>\n",
       "                        <td id=\"T_53a3d9ae_0a12_11eb_b70e_340286bab557row6_col0\" class=\"data row6 col0\" >0.013489</td>\n",
       "                        <td id=\"T_53a3d9ae_0a12_11eb_b70e_340286bab557row6_col1\" class=\"data row6 col1\" >0.100007</td>\n",
       "                        <td id=\"T_53a3d9ae_0a12_11eb_b70e_340286bab557row6_col2\" class=\"data row6 col2\" >-0.021735</td>\n",
       "                        <td id=\"T_53a3d9ae_0a12_11eb_b70e_340286bab557row6_col3\" class=\"data row6 col3\" >0.076866</td>\n",
       "                        <td id=\"T_53a3d9ae_0a12_11eb_b70e_340286bab557row6_col4\" class=\"data row6 col4\" >0.088202</td>\n",
       "                        <td id=\"T_53a3d9ae_0a12_11eb_b70e_340286bab557row6_col5\" class=\"data row6 col5\" >0.125222</td>\n",
       "                        <td id=\"T_53a3d9ae_0a12_11eb_b70e_340286bab557row6_col6\" class=\"data row6 col6\" >1.000000</td>\n",
       "                        <td id=\"T_53a3d9ae_0a12_11eb_b70e_340286bab557row6_col7\" class=\"data row6 col7\" >0.041474</td>\n",
       "            </tr>\n",
       "            <tr>\n",
       "                        <th id=\"T_53a3d9ae_0a12_11eb_b70e_340286bab557level0_row7\" class=\"row_heading level0 row7\" >Age</th>\n",
       "                        <td id=\"T_53a3d9ae_0a12_11eb_b70e_340286bab557row7_col0\" class=\"data row7 col0\" >0.385208</td>\n",
       "                        <td id=\"T_53a3d9ae_0a12_11eb_b70e_340286bab557row7_col1\" class=\"data row7 col1\" >0.169050</td>\n",
       "                        <td id=\"T_53a3d9ae_0a12_11eb_b70e_340286bab557row7_col2\" class=\"data row7 col2\" >0.244486</td>\n",
       "                        <td id=\"T_53a3d9ae_0a12_11eb_b70e_340286bab557row7_col3\" class=\"data row7 col3\" >0.063100</td>\n",
       "                        <td id=\"T_53a3d9ae_0a12_11eb_b70e_340286bab557row7_col4\" class=\"data row7 col4\" >0.025588</td>\n",
       "                        <td id=\"T_53a3d9ae_0a12_11eb_b70e_340286bab557row7_col5\" class=\"data row7 col5\" >0.035425</td>\n",
       "                        <td id=\"T_53a3d9ae_0a12_11eb_b70e_340286bab557row7_col6\" class=\"data row7 col6\" >0.041474</td>\n",
       "                        <td id=\"T_53a3d9ae_0a12_11eb_b70e_340286bab557row7_col7\" class=\"data row7 col7\" >1.000000</td>\n",
       "            </tr>\n",
       "    </tbody></table>"
      ],
      "text/plain": [
       "<pandas.io.formats.style.Styler at 0x187b47e93c8>"
      ]
     },
     "execution_count": 143,
     "metadata": {},
     "output_type": "execute_result"
    }
   ],
   "source": [
    "## correlation between features using Pearson method\n",
    "corr = diabetes.iloc[:,0:-1].corr()\n",
    "corr.style.background_gradient(cmap='coolwarm')"
   ]
  },
  {
   "cell_type": "code",
   "execution_count": 189,
   "metadata": {},
   "outputs": [
    {
     "data": {
      "text/html": [
       "<style  type=\"text/css\" >\n",
       "#T_25c8bb48_0a14_11eb_8c1e_340286bab557row0_col0,#T_25c8bb48_0a14_11eb_8c1e_340286bab557row1_col1,#T_25c8bb48_0a14_11eb_8c1e_340286bab557row2_col2,#T_25c8bb48_0a14_11eb_8c1e_340286bab557row3_col3,#T_25c8bb48_0a14_11eb_8c1e_340286bab557row4_col4,#T_25c8bb48_0a14_11eb_8c1e_340286bab557row5_col5,#T_25c8bb48_0a14_11eb_8c1e_340286bab557row6_col6{\n",
       "            background-color:  #b40426;\n",
       "            color:  #f1f1f1;\n",
       "        }#T_25c8bb48_0a14_11eb_8c1e_340286bab557row0_col1{\n",
       "            background-color:  #4055c8;\n",
       "            color:  #f1f1f1;\n",
       "        }#T_25c8bb48_0a14_11eb_8c1e_340286bab557row0_col2{\n",
       "            background-color:  #7da0f9;\n",
       "            color:  #000000;\n",
       "        }#T_25c8bb48_0a14_11eb_8c1e_340286bab557row0_col3,#T_25c8bb48_0a14_11eb_8c1e_340286bab557row6_col4{\n",
       "            background-color:  #4358cb;\n",
       "            color:  #f1f1f1;\n",
       "        }#T_25c8bb48_0a14_11eb_8c1e_340286bab557row0_col4,#T_25c8bb48_0a14_11eb_8c1e_340286bab557row2_col5,#T_25c8bb48_0a14_11eb_8c1e_340286bab557row4_col0,#T_25c8bb48_0a14_11eb_8c1e_340286bab557row4_col6,#T_25c8bb48_0a14_11eb_8c1e_340286bab557row5_col1,#T_25c8bb48_0a14_11eb_8c1e_340286bab557row5_col2,#T_25c8bb48_0a14_11eb_8c1e_340286bab557row6_col3{\n",
       "            background-color:  #3b4cc0;\n",
       "            color:  #f1f1f1;\n",
       "        }#T_25c8bb48_0a14_11eb_8c1e_340286bab557row0_col5,#T_25c8bb48_0a14_11eb_8c1e_340286bab557row4_col2{\n",
       "            background-color:  #445acc;\n",
       "            color:  #f1f1f1;\n",
       "        }#T_25c8bb48_0a14_11eb_8c1e_340286bab557row0_col6{\n",
       "            background-color:  #b6cefa;\n",
       "            color:  #000000;\n",
       "        }#T_25c8bb48_0a14_11eb_8c1e_340286bab557row1_col0,#T_25c8bb48_0a14_11eb_8c1e_340286bab557row2_col1{\n",
       "            background-color:  #6180e9;\n",
       "            color:  #000000;\n",
       "        }#T_25c8bb48_0a14_11eb_8c1e_340286bab557row1_col2,#T_25c8bb48_0a14_11eb_8c1e_340286bab557row3_col2{\n",
       "            background-color:  #85a8fc;\n",
       "            color:  #000000;\n",
       "        }#T_25c8bb48_0a14_11eb_8c1e_340286bab557row1_col3{\n",
       "            background-color:  #7699f6;\n",
       "            color:  #000000;\n",
       "        }#T_25c8bb48_0a14_11eb_8c1e_340286bab557row1_col4{\n",
       "            background-color:  #bfd3f6;\n",
       "            color:  #000000;\n",
       "        }#T_25c8bb48_0a14_11eb_8c1e_340286bab557row1_col5{\n",
       "            background-color:  #5f7fe8;\n",
       "            color:  #000000;\n",
       "        }#T_25c8bb48_0a14_11eb_8c1e_340286bab557row1_col6,#T_25c8bb48_0a14_11eb_8c1e_340286bab557row3_col4{\n",
       "            background-color:  #688aef;\n",
       "            color:  #000000;\n",
       "        }#T_25c8bb48_0a14_11eb_8c1e_340286bab557row2_col0{\n",
       "            background-color:  #779af7;\n",
       "            color:  #000000;\n",
       "        }#T_25c8bb48_0a14_11eb_8c1e_340286bab557row2_col3{\n",
       "            background-color:  #6c8ff1;\n",
       "            color:  #000000;\n",
       "        }#T_25c8bb48_0a14_11eb_8c1e_340286bab557row2_col4,#T_25c8bb48_0a14_11eb_8c1e_340286bab557row5_col0,#T_25c8bb48_0a14_11eb_8c1e_340286bab557row5_col6{\n",
       "            background-color:  #3f53c6;\n",
       "            color:  #f1f1f1;\n",
       "        }#T_25c8bb48_0a14_11eb_8c1e_340286bab557row2_col6{\n",
       "            background-color:  #84a7fc;\n",
       "            color:  #000000;\n",
       "        }#T_25c8bb48_0a14_11eb_8c1e_340286bab557row3_col0,#T_25c8bb48_0a14_11eb_8c1e_340286bab557row3_col5{\n",
       "            background-color:  #5875e1;\n",
       "            color:  #000000;\n",
       "        }#T_25c8bb48_0a14_11eb_8c1e_340286bab557row3_col1{\n",
       "            background-color:  #6b8df0;\n",
       "            color:  #000000;\n",
       "        }#T_25c8bb48_0a14_11eb_8c1e_340286bab557row3_col6{\n",
       "            background-color:  #455cce;\n",
       "            color:  #f1f1f1;\n",
       "        }#T_25c8bb48_0a14_11eb_8c1e_340286bab557row4_col1{\n",
       "            background-color:  #a6c4fe;\n",
       "            color:  #000000;\n",
       "        }#T_25c8bb48_0a14_11eb_8c1e_340286bab557row4_col3{\n",
       "            background-color:  #5470de;\n",
       "            color:  #000000;\n",
       "        }#T_25c8bb48_0a14_11eb_8c1e_340286bab557row4_col5{\n",
       "            background-color:  #5b7ae5;\n",
       "            color:  #000000;\n",
       "        }#T_25c8bb48_0a14_11eb_8c1e_340286bab557row5_col3{\n",
       "            background-color:  #3e51c5;\n",
       "            color:  #f1f1f1;\n",
       "        }#T_25c8bb48_0a14_11eb_8c1e_340286bab557row5_col4{\n",
       "            background-color:  #5673e0;\n",
       "            color:  #000000;\n",
       "        }#T_25c8bb48_0a14_11eb_8c1e_340286bab557row6_col0{\n",
       "            background-color:  #bcd2f7;\n",
       "            color:  #000000;\n",
       "        }#T_25c8bb48_0a14_11eb_8c1e_340286bab557row6_col1{\n",
       "            background-color:  #516ddb;\n",
       "            color:  #000000;\n",
       "        }#T_25c8bb48_0a14_11eb_8c1e_340286bab557row6_col2{\n",
       "            background-color:  #90b2fe;\n",
       "            color:  #000000;\n",
       "        }#T_25c8bb48_0a14_11eb_8c1e_340286bab557row6_col5{\n",
       "            background-color:  #4c66d6;\n",
       "            color:  #000000;\n",
       "        }</style><table id=\"T_25c8bb48_0a14_11eb_8c1e_340286bab557\" ><thead>    <tr>        <th class=\"blank level0\" ></th>        <th class=\"col_heading level0 col0\" >Pregnancies</th>        <th class=\"col_heading level0 col1\" >Glucose</th>        <th class=\"col_heading level0 col2\" >BloodPressure</th>        <th class=\"col_heading level0 col3\" >SkinThickness</th>        <th class=\"col_heading level0 col4\" >Insulin</th>        <th class=\"col_heading level0 col5\" >DiabetesPedigreeFunction</th>        <th class=\"col_heading level0 col6\" >Age</th>    </tr></thead><tbody>\n",
       "                <tr>\n",
       "                        <th id=\"T_25c8bb48_0a14_11eb_8c1e_340286bab557level0_row0\" class=\"row_heading level0 row0\" >Pregnancies</th>\n",
       "                        <td id=\"T_25c8bb48_0a14_11eb_8c1e_340286bab557row0_col0\" class=\"data row0 col0\" >1.000000</td>\n",
       "                        <td id=\"T_25c8bb48_0a14_11eb_8c1e_340286bab557row0_col1\" class=\"data row0 col1\" >0.120655</td>\n",
       "                        <td id=\"T_25c8bb48_0a14_11eb_8c1e_340286bab557row0_col2\" class=\"data row0 col2\" >0.187052</td>\n",
       "                        <td id=\"T_25c8bb48_0a14_11eb_8c1e_340286bab557row0_col3\" class=\"data row0 col3\" >0.089682</td>\n",
       "                        <td id=\"T_25c8bb48_0a14_11eb_8c1e_340286bab557row0_col4\" class=\"data row0 col4\" >-0.004772</td>\n",
       "                        <td id=\"T_25c8bb48_0a14_11eb_8c1e_340286bab557row0_col5\" class=\"data row0 col5\" >0.013489</td>\n",
       "                        <td id=\"T_25c8bb48_0a14_11eb_8c1e_340286bab557row0_col6\" class=\"data row0 col6\" >0.385208</td>\n",
       "            </tr>\n",
       "            <tr>\n",
       "                        <th id=\"T_25c8bb48_0a14_11eb_8c1e_340286bab557level0_row1\" class=\"row_heading level0 row1\" >Glucose</th>\n",
       "                        <td id=\"T_25c8bb48_0a14_11eb_8c1e_340286bab557row1_col0\" class=\"data row1 col0\" >0.120655</td>\n",
       "                        <td id=\"T_25c8bb48_0a14_11eb_8c1e_340286bab557row1_col1\" class=\"data row1 col1\" >1.000000</td>\n",
       "                        <td id=\"T_25c8bb48_0a14_11eb_8c1e_340286bab557row1_col2\" class=\"data row1 col2\" >0.211188</td>\n",
       "                        <td id=\"T_25c8bb48_0a14_11eb_8c1e_340286bab557row1_col3\" class=\"data row1 col3\" >0.237566</td>\n",
       "                        <td id=\"T_25c8bb48_0a14_11eb_8c1e_340286bab557row1_col4\" class=\"data row1 col4\" >0.391677</td>\n",
       "                        <td id=\"T_25c8bb48_0a14_11eb_8c1e_340286bab557row1_col5\" class=\"data row1 col5\" >0.100007</td>\n",
       "                        <td id=\"T_25c8bb48_0a14_11eb_8c1e_340286bab557row1_col6\" class=\"data row1 col6\" >0.169050</td>\n",
       "            </tr>\n",
       "            <tr>\n",
       "                        <th id=\"T_25c8bb48_0a14_11eb_8c1e_340286bab557level0_row2\" class=\"row_heading level0 row2\" >BloodPressure</th>\n",
       "                        <td id=\"T_25c8bb48_0a14_11eb_8c1e_340286bab557row2_col0\" class=\"data row2 col0\" >0.187052</td>\n",
       "                        <td id=\"T_25c8bb48_0a14_11eb_8c1e_340286bab557row2_col1\" class=\"data row2 col1\" >0.211188</td>\n",
       "                        <td id=\"T_25c8bb48_0a14_11eb_8c1e_340286bab557row2_col2\" class=\"data row2 col2\" >1.000000</td>\n",
       "                        <td id=\"T_25c8bb48_0a14_11eb_8c1e_340286bab557row2_col3\" class=\"data row2 col3\" >0.212160</td>\n",
       "                        <td id=\"T_25c8bb48_0a14_11eb_8c1e_340286bab557row2_col4\" class=\"data row2 col4\" >0.013976</td>\n",
       "                        <td id=\"T_25c8bb48_0a14_11eb_8c1e_340286bab557row2_col5\" class=\"data row2 col5\" >-0.021735</td>\n",
       "                        <td id=\"T_25c8bb48_0a14_11eb_8c1e_340286bab557row2_col6\" class=\"data row2 col6\" >0.244486</td>\n",
       "            </tr>\n",
       "            <tr>\n",
       "                        <th id=\"T_25c8bb48_0a14_11eb_8c1e_340286bab557level0_row3\" class=\"row_heading level0 row3\" >SkinThickness</th>\n",
       "                        <td id=\"T_25c8bb48_0a14_11eb_8c1e_340286bab557row3_col0\" class=\"data row3 col0\" >0.089682</td>\n",
       "                        <td id=\"T_25c8bb48_0a14_11eb_8c1e_340286bab557row3_col1\" class=\"data row3 col1\" >0.237566</td>\n",
       "                        <td id=\"T_25c8bb48_0a14_11eb_8c1e_340286bab557row3_col2\" class=\"data row3 col2\" >0.212160</td>\n",
       "                        <td id=\"T_25c8bb48_0a14_11eb_8c1e_340286bab557row3_col3\" class=\"data row3 col3\" >1.000000</td>\n",
       "                        <td id=\"T_25c8bb48_0a14_11eb_8c1e_340286bab557row3_col4\" class=\"data row3 col4\" >0.141036</td>\n",
       "                        <td id=\"T_25c8bb48_0a14_11eb_8c1e_340286bab557row3_col5\" class=\"data row3 col5\" >0.076866</td>\n",
       "                        <td id=\"T_25c8bb48_0a14_11eb_8c1e_340286bab557row3_col6\" class=\"data row3 col6\" >0.063100</td>\n",
       "            </tr>\n",
       "            <tr>\n",
       "                        <th id=\"T_25c8bb48_0a14_11eb_8c1e_340286bab557level0_row4\" class=\"row_heading level0 row4\" >Insulin</th>\n",
       "                        <td id=\"T_25c8bb48_0a14_11eb_8c1e_340286bab557row4_col0\" class=\"data row4 col0\" >-0.004772</td>\n",
       "                        <td id=\"T_25c8bb48_0a14_11eb_8c1e_340286bab557row4_col1\" class=\"data row4 col1\" >0.391677</td>\n",
       "                        <td id=\"T_25c8bb48_0a14_11eb_8c1e_340286bab557row4_col2\" class=\"data row4 col2\" >0.013976</td>\n",
       "                        <td id=\"T_25c8bb48_0a14_11eb_8c1e_340286bab557row4_col3\" class=\"data row4 col3\" >0.141036</td>\n",
       "                        <td id=\"T_25c8bb48_0a14_11eb_8c1e_340286bab557row4_col4\" class=\"data row4 col4\" >1.000000</td>\n",
       "                        <td id=\"T_25c8bb48_0a14_11eb_8c1e_340286bab557row4_col5\" class=\"data row4 col5\" >0.088202</td>\n",
       "                        <td id=\"T_25c8bb48_0a14_11eb_8c1e_340286bab557row4_col6\" class=\"data row4 col6\" >0.025588</td>\n",
       "            </tr>\n",
       "            <tr>\n",
       "                        <th id=\"T_25c8bb48_0a14_11eb_8c1e_340286bab557level0_row5\" class=\"row_heading level0 row5\" >DiabetesPedigreeFunction</th>\n",
       "                        <td id=\"T_25c8bb48_0a14_11eb_8c1e_340286bab557row5_col0\" class=\"data row5 col0\" >0.013489</td>\n",
       "                        <td id=\"T_25c8bb48_0a14_11eb_8c1e_340286bab557row5_col1\" class=\"data row5 col1\" >0.100007</td>\n",
       "                        <td id=\"T_25c8bb48_0a14_11eb_8c1e_340286bab557row5_col2\" class=\"data row5 col2\" >-0.021735</td>\n",
       "                        <td id=\"T_25c8bb48_0a14_11eb_8c1e_340286bab557row5_col3\" class=\"data row5 col3\" >0.076866</td>\n",
       "                        <td id=\"T_25c8bb48_0a14_11eb_8c1e_340286bab557row5_col4\" class=\"data row5 col4\" >0.088202</td>\n",
       "                        <td id=\"T_25c8bb48_0a14_11eb_8c1e_340286bab557row5_col5\" class=\"data row5 col5\" >1.000000</td>\n",
       "                        <td id=\"T_25c8bb48_0a14_11eb_8c1e_340286bab557row5_col6\" class=\"data row5 col6\" >0.041474</td>\n",
       "            </tr>\n",
       "            <tr>\n",
       "                        <th id=\"T_25c8bb48_0a14_11eb_8c1e_340286bab557level0_row6\" class=\"row_heading level0 row6\" >Age</th>\n",
       "                        <td id=\"T_25c8bb48_0a14_11eb_8c1e_340286bab557row6_col0\" class=\"data row6 col0\" >0.385208</td>\n",
       "                        <td id=\"T_25c8bb48_0a14_11eb_8c1e_340286bab557row6_col1\" class=\"data row6 col1\" >0.169050</td>\n",
       "                        <td id=\"T_25c8bb48_0a14_11eb_8c1e_340286bab557row6_col2\" class=\"data row6 col2\" >0.244486</td>\n",
       "                        <td id=\"T_25c8bb48_0a14_11eb_8c1e_340286bab557row6_col3\" class=\"data row6 col3\" >0.063100</td>\n",
       "                        <td id=\"T_25c8bb48_0a14_11eb_8c1e_340286bab557row6_col4\" class=\"data row6 col4\" >0.025588</td>\n",
       "                        <td id=\"T_25c8bb48_0a14_11eb_8c1e_340286bab557row6_col5\" class=\"data row6 col5\" >0.041474</td>\n",
       "                        <td id=\"T_25c8bb48_0a14_11eb_8c1e_340286bab557row6_col6\" class=\"data row6 col6\" >1.000000</td>\n",
       "            </tr>\n",
       "    </tbody></table>"
      ],
      "text/plain": [
       "<pandas.io.formats.style.Styler at 0x187c1fbecc0>"
      ]
     },
     "execution_count": 189,
     "metadata": {},
     "output_type": "execute_result"
    }
   ],
   "source": [
    "## remove BMI from dataset to avoid multicolanarity\n",
    "diabetes = diabetes.drop(['BMI'], axis=1)\n",
    "## correlation between features using Pearson method\n",
    "corr = diabetes.iloc[:,0:-1].corr()\n",
    "corr.style.background_gradient(cmap='coolwarm')"
   ]
  },
  {
   "cell_type": "markdown",
   "metadata": {},
   "source": [
    "#### Train Random forest, Logestic regression and KNN for classification problem"
   ]
  },
  {
   "cell_type": "code",
   "execution_count": 190,
   "metadata": {},
   "outputs": [
    {
     "name": "stdout",
     "output_type": "stream",
     "text": [
      "0    252\n",
      "2    115\n",
      "1    113\n",
      "3     64\n",
      "Name: Outcome, dtype: int64\n"
     ]
    }
   ],
   "source": [
    "print(diabetes.Outcome.value_counts())      "
   ]
  },
  {
   "cell_type": "code",
   "execution_count": 191,
   "metadata": {},
   "outputs": [],
   "source": [
    "from sklearn.model_selection import train_test_split \n",
    "from sklearn.metrics import confusion_matrix,accuracy_score, classification_report\n",
    "from sklearn.ensemble import RandomForestClassifier\n",
    "from sklearn.linear_model import LogisticRegression\n",
    "from sklearn.neighbors import KNeighborsClassifier"
   ]
  },
  {
   "cell_type": "code",
   "execution_count": 192,
   "metadata": {
    "scrolled": true
   },
   "outputs": [
    {
     "data": {
      "text/plain": [
       "Pregnancies                 float64\n",
       "Glucose                     float64\n",
       "BloodPressure               float64\n",
       "SkinThickness               float64\n",
       "Insulin                     float64\n",
       "DiabetesPedigreeFunction    float64\n",
       "Age                         float64\n",
       "Outcome                       int32\n",
       "dtype: object"
      ]
     },
     "execution_count": 192,
     "metadata": {},
     "output_type": "execute_result"
    }
   ],
   "source": [
    "diabetes.dtypes"
   ]
  },
  {
   "cell_type": "code",
   "execution_count": 193,
   "metadata": {},
   "outputs": [],
   "source": [
    "y = diabetes.Outcome.values\n",
    "X = diabetes.drop(\"Outcome\",axis=1).values\n",
    "normX = (X - X.mean())/X.std()"
   ]
  },
  {
   "cell_type": "code",
   "execution_count": 194,
   "metadata": {},
   "outputs": [],
   "source": [
    "## Split our data\n",
    "X_train, X_test, y_train, y_test = train_test_split(normX, y, test_size=0.33, random_state=10)"
   ]
  },
  {
   "cell_type": "code",
   "execution_count": 195,
   "metadata": {
    "scrolled": true
   },
   "outputs": [
    {
     "name": "stdout",
     "output_type": "stream",
     "text": [
      "18\n"
     ]
    },
    {
     "data": {
      "image/png": "[encoded data removed]",
      "text/plain": [
       "<Figure size 432x288 with 1 Axes>"
      ]
     },
     "metadata": {
      "needs_background": "light"
     },
     "output_type": "display_data"
    }
   ],
   "source": [
    "## finding the optimal k for KNN \n",
    "accuracy=[]\n",
    "for k in range(2,20):\n",
    "    # Fit Knn classifier\n",
    "    knn = KNeighborsClassifier(n_neighbors=k)\n",
    "    # Train the model using the training sets\n",
    "    knn.fit(X_train,y_train)\n",
    "    ind=accuracy_score(y_test, knn.predict(X_test))\n",
    "    accuracy.append(ind)\n",
    "\n",
    "opt_k=np.where(accuracy==np.max(accuracy))[0][0] + 2\n",
    "print(opt_k)\n",
    "plt.plot(range(2,20),accuracy)\n",
    "plt.xlabel(\"k\")\n",
    "plt.ylabel(\"Accuracy\")\n",
    "plt.grid(linestyle=\"--\");"
   ]
  },
  {
   "cell_type": "code",
   "execution_count": 196,
   "metadata": {},
   "outputs": [],
   "source": [
    "classifiers = [\n",
    "    RandomForestClassifier(n_estimators=100),\n",
    "    LogisticRegression(multi_class='multinomial',solver='lbfgs',max_iter=1000),\n",
    "    KNeighborsClassifier(opt_k)]\n",
    "\n",
    "classifiers_names=[\"RandomForest: \\n\",\n",
    "                   \"Logistic Regression: \\n\",\n",
    "                   \"K Nearest Neighbors: \\n\"]"
   ]
  },
  {
   "cell_type": "code",
   "execution_count": 197,
   "metadata": {
    "scrolled": true
   },
   "outputs": [
    {
     "name": "stdout",
     "output_type": "stream",
     "text": [
      "RandomForest: \n",
      "               precision    recall  f1-score   support\n",
      "\n",
      "           0       0.53      0.72      0.61        82\n",
      "           1       0.34      0.55      0.42        33\n",
      "           2       0.08      0.02      0.04        42\n",
      "           3       0.67      0.09      0.15        23\n",
      "\n",
      "    accuracy                           0.44       180\n",
      "   macro avg       0.40      0.34      0.30       180\n",
      "weighted avg       0.41      0.44      0.38       180\n",
      "\n",
      "---------------------------------------------------------\n",
      "Logistic Regression: \n",
      "               precision    recall  f1-score   support\n",
      "\n",
      "           0       0.54      0.85      0.66        82\n",
      "           1       0.38      0.55      0.45        33\n",
      "           2       0.33      0.02      0.04        42\n",
      "           3       0.00      0.00      0.00        23\n",
      "\n",
      "    accuracy                           0.49       180\n",
      "   macro avg       0.31      0.36      0.29       180\n",
      "weighted avg       0.39      0.49      0.39       180\n",
      "\n",
      "---------------------------------------------------------\n",
      "K Nearest Neighbors: \n",
      "               precision    recall  f1-score   support\n",
      "\n",
      "           0       0.56      0.89      0.69        82\n",
      "           1       0.45      0.58      0.51        33\n",
      "           2       0.17      0.02      0.04        42\n",
      "           3       0.00      0.00      0.00        23\n",
      "\n",
      "    accuracy                           0.52       180\n",
      "   macro avg       0.29      0.37      0.31       180\n",
      "weighted avg       0.38      0.52      0.41       180\n",
      "\n",
      "---------------------------------------------------------\n"
     ]
    },
    {
     "name": "stderr",
     "output_type": "stream",
     "text": [
      "C:\\Users\\Meghdad\\Anaconda3\\envs\\deepLearning\\lib\\site-packages\\sklearn\\metrics\\_classification.py:1221: UndefinedMetricWarning: Precision and F-score are ill-defined and being set to 0.0 in labels with no predicted samples. Use `zero_division` parameter to control this behavior.\n",
      "  _warn_prf(average, modifier, msg_start, len(result))\n"
     ]
    }
   ],
   "source": [
    "i=0\n",
    "for classifier in classifiers:\n",
    "    model = classifier\n",
    "    model.fit(X_train,y_train)\n",
    "    # print(classifier)\n",
    "    class_rep = classification_report(y_test, model.predict(X_test))\n",
    "    print(classifiers_names[i],class_rep)\n",
    "    print(\"---------------------------------------------------------\")\n",
    "    i=i+1"
   ]
  },
  {
   "cell_type": "markdown",
   "metadata": {},
   "source": [
    "#### Using oversampling to improve the model performance"
   ]
  },
  {
   "cell_type": "code",
   "execution_count": 198,
   "metadata": {
    "scrolled": true
   },
   "outputs": [],
   "source": [
    "from imblearn.over_sampling import RandomOverSampler, ADASYN\n",
    "from collections import Counter"
   ]
  },
  {
   "cell_type": "code",
   "execution_count": 199,
   "metadata": {},
   "outputs": [
    {
     "data": {
      "text/plain": [
       "Counter({3: 170, 0: 170, 1: 170, 2: 170})"
      ]
     },
     "execution_count": 199,
     "metadata": {},
     "output_type": "execute_result"
    }
   ],
   "source": [
    "# resampling X, y\n",
    "ros = RandomOverSampler()\n",
    "X_ros, y_ros = ros.fit_resample(X_train, y_train)\n",
    "Counter(y_ros)"
   ]
  },
  {
   "cell_type": "code",
   "execution_count": 200,
   "metadata": {
    "scrolled": true
   },
   "outputs": [
    {
     "name": "stdout",
     "output_type": "stream",
     "text": [
      "RandomForest: \n",
      "               precision    recall  f1-score   support\n",
      "\n",
      "           0       0.55      0.70      0.61        82\n",
      "           1       0.31      0.39      0.35        33\n",
      "           2       0.09      0.05      0.06        42\n",
      "           3       0.27      0.13      0.18        23\n",
      "\n",
      "    accuracy                           0.42       180\n",
      "   macro avg       0.30      0.32      0.30       180\n",
      "weighted avg       0.36      0.42      0.38       180\n",
      "\n",
      "---------------------------------------------------------\n",
      "Logistic Regression: \n",
      "               precision    recall  f1-score   support\n",
      "\n",
      "           0       0.61      0.62      0.61        82\n",
      "           1       0.26      0.33      0.29        33\n",
      "           2       0.40      0.19      0.26        42\n",
      "           3       0.18      0.26      0.21        23\n",
      "\n",
      "    accuracy                           0.42       180\n",
      "   macro avg       0.36      0.35      0.34       180\n",
      "weighted avg       0.44      0.42      0.42       180\n",
      "\n",
      "---------------------------------------------------------\n",
      "K Nearest Neighbors: \n",
      "               precision    recall  f1-score   support\n",
      "\n",
      "           0       0.56      0.43      0.49        82\n",
      "           1       0.22      0.33      0.27        33\n",
      "           2       0.18      0.19      0.19        42\n",
      "           3       0.24      0.26      0.25        23\n",
      "\n",
      "    accuracy                           0.33       180\n",
      "   macro avg       0.30      0.30      0.30       180\n",
      "weighted avg       0.37      0.33      0.35       180\n",
      "\n",
      "---------------------------------------------------------\n"
     ]
    }
   ],
   "source": [
    "i=0\n",
    "for classifier in classifiers:\n",
    "    model = classifier\n",
    "    model.fit(X_ros, y_ros)\n",
    "    # print(classifier)\n",
    "    class_rep = classification_report(y_test, model.predict(X_test))\n",
    "    print(classifiers_names[i],class_rep)\n",
    "    print(\"---------------------------------------------------------\")\n",
    "    i=i+1"
   ]
  },
  {
   "cell_type": "markdown",
   "metadata": {},
   "source": [
    "### Deep learning "
   ]
  },
  {
   "cell_type": "code",
   "execution_count": 221,
   "metadata": {},
   "outputs": [],
   "source": [
    "from keras.models import Sequential\n",
    "from keras.layers import Dense, Flatten, Activation, Dropout\n",
    "from keras.utils import np_utils"
   ]
  },
  {
   "cell_type": "code",
   "execution_count": 222,
   "metadata": {},
   "outputs": [],
   "source": [
    "no_classes = len(set(y_ros))\n",
    "oneHot_y_ros = np_utils.to_categorical(y_ros).astype(\"float32\")\n",
    "oneHot_y_test = np_utils.to_categorical(y_test).astype(\"float32\")"
   ]
  },
  {
   "cell_type": "code",
   "execution_count": 223,
   "metadata": {},
   "outputs": [],
   "source": [
    "# Train and validation dataset\n",
    "X_par, X_val, y_par, y_val = train_test_split(X_ros, oneHot_y_ros, test_size=0.3, random_state=42)"
   ]
  },
  {
   "cell_type": "code",
   "execution_count": 229,
   "metadata": {},
   "outputs": [],
   "source": [
    "# Densly connected nueral network \n",
    "def Dense_net():\n",
    "    # create model\n",
    "    model = Sequential()\n",
    "    model.add(Dense(1000, input_shape=(X_train.shape[1],), activation='tanh'))\n",
    "    #model.add(Dropout(0.2))\n",
    "    model.add(Dense(800, activation=\"tanh\"))\n",
    "    #model.add(Dropout(0.2))\n",
    "    model.add(Dense(300,  activation='tanh'))\n",
    "    #model.add(Dropout(0.2))\n",
    "    model.add(Dense(200, activation=\"relu\")) \n",
    "    model.add(Dense(no_classes, activation='softmax'))\n",
    "    # Compile model\n",
    "    model.compile(loss='categorical_crossentropy', optimizer=\"rmsprop\", metrics=['accuracy'])\n",
    "    return model"
   ]
  },
  {
   "cell_type": "code",
   "execution_count": 230,
   "metadata": {},
   "outputs": [
    {
     "name": "stdout",
     "output_type": "stream",
     "text": [
      "Model: \"sequential_6\"\n",
      "_________________________________________________________________\n",
      "Layer (type)                 Output Shape              Param #   \n",
      "=================================================================\n",
      "dense_22 (Dense)             (None, 1000)              8000      \n",
      "_________________________________________________________________\n",
      "dense_23 (Dense)             (None, 800)               800800    \n",
      "_________________________________________________________________\n",
      "dense_24 (Dense)             (None, 300)               240300    \n",
      "_________________________________________________________________\n",
      "dense_25 (Dense)             (None, 200)               60200     \n",
      "_________________________________________________________________\n",
      "dense_26 (Dense)             (None, 4)                 804       \n",
      "=================================================================\n",
      "Total params: 1,110,104\n",
      "Trainable params: 1,110,104\n",
      "Non-trainable params: 0\n",
      "_________________________________________________________________\n"
     ]
    }
   ],
   "source": [
    "model = Dense_net()\n",
    "model.summary()"
   ]
  },
  {
   "cell_type": "code",
   "execution_count": 231,
   "metadata": {},
   "outputs": [
    {
     "data": {
      "image/png": "[encoded data removed]",
      "text/plain": [
       "<Figure size 432x288 with 1 Axes>"
      ]
     },
     "metadata": {
      "needs_background": "light"
     },
     "output_type": "display_data"
    }
   ],
   "source": [
    "epoch = 200\n",
    "history = model.fit(X_par, y_par, epochs=epoch,\n",
    "                   batch_size=256, validation_data=(X_val,y_val),\n",
    "                   verbose=0)\n",
    "\n",
    "# plot history\n",
    "plt.plot(history.history['accuracy'], label='train')\n",
    "plt.plot(history.history['val_accuracy'], label='validation')\n",
    "plt.xlabel(\"epoch\")\n",
    "plt.ylabel(\"accuracy\")\n",
    "plt.grid(linestyle=\"--\")\n",
    "plt.legend();"
   ]
  },
  {
   "cell_type": "code",
   "execution_count": 232,
   "metadata": {},
   "outputs": [
    {
     "name": "stdout",
     "output_type": "stream",
     "text": [
      "680/680 [==============================] - 0s 126us/step\n",
      "180/180 [==============================] - 0s 106us/step\n",
      "Train accuracy: 0.915\n",
      "Test accuracy: 0.383\n"
     ]
    }
   ],
   "source": [
    "_, train_acc = model.evaluate(X_ros, oneHot_y_ros)\n",
    "_, test_acc = model.evaluate(X_test, oneHot_y_test)\n",
    "print('Train accuracy:', np.round(train_acc,3)) \n",
    "print('Test accuracy:', np.round(test_acc,3))"
   ]
  },
  {
   "cell_type": "code",
   "execution_count": 233,
   "metadata": {},
   "outputs": [
    {
     "name": "stdout",
     "output_type": "stream",
     "text": [
      "Densly Connected Neural Network:\n",
      "              precision    recall  f1-score   support\n",
      "\n",
      "           0       0.59      0.50      0.54        82\n",
      "           1       0.28      0.42      0.34        33\n",
      "           2       0.22      0.19      0.21        42\n",
      "           3       0.24      0.26      0.25        23\n",
      "\n",
      "    accuracy                           0.38       180\n",
      "   macro avg       0.33      0.34      0.33       180\n",
      "weighted avg       0.40      0.38      0.39       180\n",
      "\n"
     ]
    }
   ],
   "source": [
    "# print(classifier)\n",
    "class_rep = classification_report(y_test, model.predict(X_test).argmax(axis=1))\n",
    "print(\"Densly Connected Neural Network:\")\n",
    "print(class_rep)\n",
    "    "
   ]
  }
 ],
 "metadata": {
  "kernelspec": {
   "display_name": "Python 3",
   "language": "python",
   "name": "python3"
  },
  "language_info": {
   "codemirror_mode": {
    "name": "ipython",
    "version": 3
   },
   "file_extension": ".py",
   "mimetype": "text/x-python",
   "name": "python",
   "nbconvert_exporter": "python",
   "pygments_lexer": "ipython3",
   "version": "3.7.1"
  }
 },
 "nbformat": 4,
 "nbformat_minor": 2
}
